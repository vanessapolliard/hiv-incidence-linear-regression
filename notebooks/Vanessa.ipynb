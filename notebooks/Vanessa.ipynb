{
 "cells": [
  {
   "cell_type": "code",
   "execution_count": 1,
   "metadata": {},
   "outputs": [],
   "source": [
    "import pandas as pd\n",
    "import numpy as np\n",
    "import matplotlib.pyplot as plt\n"
   ]
  },
  {
   "cell_type": "code",
   "execution_count": 2,
   "metadata": {},
   "outputs": [],
   "source": [
    "pd.set_option(\"display.max_columns\", 100)"
   ]
  },
  {
   "cell_type": "code",
   "execution_count": 3,
   "metadata": {},
   "outputs": [],
   "source": [
    "df = pd.read_csv('../data/main-df.csv')"
   ]
  },
  {
   "cell_type": "code",
   "execution_count": 4,
   "metadata": {},
   "outputs": [
    {
     "name": "stdout",
     "output_type": "stream",
     "text": [
      "<class 'pandas.core.frame.DataFrame'>\n",
      "RangeIndex: 3140 entries, 0 to 3139\n",
      "Data columns (total 38 columns):\n",
      "county_code          3140 non-null int64\n",
      "COUNTY               3140 non-null object\n",
      "STATEABBREVIATION    3140 non-null object\n",
      "YEAR                 3140 non-null int64\n",
      "AMAT_fac             3140 non-null float64\n",
      "HIVdiagnoses         3140 non-null float64\n",
      "HIVincidence         3140 non-null float64\n",
      "HIVprevalence        3140 non-null float64\n",
      "MH_fac               3140 non-null float64\n",
      "Med_AMAT_fac         3140 non-null float64\n",
      "Med_MH_fac           3140 non-null float64\n",
      "Med_SA_fac           3140 non-null float64\n",
      "Med_SMAT_fac         3140 non-null float64\n",
      "Med_TMAT_fac         3140 non-null float64\n",
      "PLHIV                3140 non-null float64\n",
      "Population           3140 non-null float64\n",
      "SA_fac               3140 non-null float64\n",
      "SMAT_fac             3140 non-null float64\n",
      "TMAT_fac             3140 non-null float64\n",
      "drugdeathrate        3140 non-null float64\n",
      "drugdeathrate_est    3140 non-null float64\n",
      "drugdeaths           3140 non-null float64\n",
      "mme_percap           2963 non-null float64\n",
      "partD30dayrxrate     3046 non-null float64\n",
      "pctunins             3140 non-null float64\n",
      "num_SSPs             3140 non-null float64\n",
      "bup_phys             3140 non-null float64\n",
      "drugdep              3139 non-null float64\n",
      "pctunmetneed         3139 non-null float64\n",
      "nonmedpain           3139 non-null float64\n",
      "ADULTMEN             3140 non-null int64\n",
      "MSM12MTH             3140 non-null int64\n",
      "MSM5YEAR             3140 non-null int64\n",
      "%msm12month          3140 non-null float64\n",
      "%msm5yr              3140 non-null float64\n",
      "unemployment_rate    3140 non-null float64\n",
      "poverty_rate         3140 non-null float64\n",
      "household_income     3140 non-null int64\n",
      "dtypes: float64(30), int64(6), object(2)\n",
      "memory usage: 932.3+ KB\n"
     ]
    }
   ],
   "source": [
    "df.info()"
   ]
  },
  {
   "cell_type": "code",
   "execution_count": 5,
   "metadata": {},
   "outputs": [
    {
     "data": {
      "text/html": [
       "<div>\n",
       "<style scoped>\n",
       "    .dataframe tbody tr th:only-of-type {\n",
       "        vertical-align: middle;\n",
       "    }\n",
       "\n",
       "    .dataframe tbody tr th {\n",
       "        vertical-align: top;\n",
       "    }\n",
       "\n",
       "    .dataframe thead th {\n",
       "        text-align: right;\n",
       "    }\n",
       "</style>\n",
       "<table border=\"1\" class=\"dataframe\">\n",
       "  <thead>\n",
       "    <tr style=\"text-align: right;\">\n",
       "      <th></th>\n",
       "      <th>county_code</th>\n",
       "      <th>COUNTY</th>\n",
       "      <th>STATEABBREVIATION</th>\n",
       "      <th>YEAR</th>\n",
       "      <th>AMAT_fac</th>\n",
       "      <th>HIVdiagnoses</th>\n",
       "      <th>HIVincidence</th>\n",
       "      <th>HIVprevalence</th>\n",
       "      <th>MH_fac</th>\n",
       "      <th>Med_AMAT_fac</th>\n",
       "      <th>Med_MH_fac</th>\n",
       "      <th>Med_SA_fac</th>\n",
       "      <th>Med_SMAT_fac</th>\n",
       "      <th>Med_TMAT_fac</th>\n",
       "      <th>PLHIV</th>\n",
       "      <th>Population</th>\n",
       "      <th>SA_fac</th>\n",
       "      <th>SMAT_fac</th>\n",
       "      <th>TMAT_fac</th>\n",
       "      <th>drugdeathrate</th>\n",
       "      <th>drugdeathrate_est</th>\n",
       "      <th>drugdeaths</th>\n",
       "      <th>mme_percap</th>\n",
       "      <th>partD30dayrxrate</th>\n",
       "      <th>pctunins</th>\n",
       "      <th>num_SSPs</th>\n",
       "      <th>bup_phys</th>\n",
       "      <th>drugdep</th>\n",
       "      <th>pctunmetneed</th>\n",
       "      <th>nonmedpain</th>\n",
       "      <th>ADULTMEN</th>\n",
       "      <th>MSM12MTH</th>\n",
       "      <th>MSM5YEAR</th>\n",
       "      <th>%msm12month</th>\n",
       "      <th>%msm5yr</th>\n",
       "      <th>unemployment_rate</th>\n",
       "      <th>poverty_rate</th>\n",
       "      <th>household_income</th>\n",
       "    </tr>\n",
       "  </thead>\n",
       "  <tbody>\n",
       "    <tr>\n",
       "      <th>0</th>\n",
       "      <td>1001</td>\n",
       "      <td>Autauga County</td>\n",
       "      <td>AL</td>\n",
       "      <td>2015</td>\n",
       "      <td>0.0</td>\n",
       "      <td>5.0</td>\n",
       "      <td>10.9</td>\n",
       "      <td>225.5</td>\n",
       "      <td>1.0</td>\n",
       "      <td>0.0</td>\n",
       "      <td>1.0</td>\n",
       "      <td>2.0</td>\n",
       "      <td>0.0</td>\n",
       "      <td>0.0</td>\n",
       "      <td>103.0</td>\n",
       "      <td>55035.0</td>\n",
       "      <td>2.0</td>\n",
       "      <td>0.0</td>\n",
       "      <td>0.0</td>\n",
       "      <td>0.0</td>\n",
       "      <td>10.1</td>\n",
       "      <td>0.0</td>\n",
       "      <td>1084.0</td>\n",
       "      <td>2.34</td>\n",
       "      <td>10.1</td>\n",
       "      <td>0.0</td>\n",
       "      <td>2.0</td>\n",
       "      <td>2.56</td>\n",
       "      <td>95.70</td>\n",
       "      <td>5.12</td>\n",
       "      <td>19410</td>\n",
       "      <td>333</td>\n",
       "      <td>514</td>\n",
       "      <td>1.715611</td>\n",
       "      <td>2.648120</td>\n",
       "      <td>8.5</td>\n",
       "      <td>12.8</td>\n",
       "      <td>20304</td>\n",
       "    </tr>\n",
       "    <tr>\n",
       "      <th>1</th>\n",
       "      <td>1003</td>\n",
       "      <td>Baldwin County</td>\n",
       "      <td>AL</td>\n",
       "      <td>2015</td>\n",
       "      <td>0.0</td>\n",
       "      <td>15.0</td>\n",
       "      <td>8.7</td>\n",
       "      <td>163.9</td>\n",
       "      <td>4.0</td>\n",
       "      <td>0.0</td>\n",
       "      <td>3.0</td>\n",
       "      <td>1.0</td>\n",
       "      <td>0.0</td>\n",
       "      <td>0.0</td>\n",
       "      <td>282.0</td>\n",
       "      <td>203690.0</td>\n",
       "      <td>2.0</td>\n",
       "      <td>0.0</td>\n",
       "      <td>0.0</td>\n",
       "      <td>21.1</td>\n",
       "      <td>20.1</td>\n",
       "      <td>43.0</td>\n",
       "      <td>1148.5</td>\n",
       "      <td>2.56</td>\n",
       "      <td>13.0</td>\n",
       "      <td>0.0</td>\n",
       "      <td>13.0</td>\n",
       "      <td>2.54</td>\n",
       "      <td>91.34</td>\n",
       "      <td>5.27</td>\n",
       "      <td>69724</td>\n",
       "      <td>925</td>\n",
       "      <td>1429</td>\n",
       "      <td>1.326659</td>\n",
       "      <td>2.049509</td>\n",
       "      <td>8.6</td>\n",
       "      <td>13.8</td>\n",
       "      <td>73058</td>\n",
       "    </tr>\n",
       "    <tr>\n",
       "      <th>2</th>\n",
       "      <td>1005</td>\n",
       "      <td>Barbour County</td>\n",
       "      <td>AL</td>\n",
       "      <td>2015</td>\n",
       "      <td>0.0</td>\n",
       "      <td>0.0</td>\n",
       "      <td>0.0</td>\n",
       "      <td>436.0</td>\n",
       "      <td>1.0</td>\n",
       "      <td>0.0</td>\n",
       "      <td>1.0</td>\n",
       "      <td>1.0</td>\n",
       "      <td>0.0</td>\n",
       "      <td>0.0</td>\n",
       "      <td>97.0</td>\n",
       "      <td>26270.0</td>\n",
       "      <td>1.0</td>\n",
       "      <td>0.0</td>\n",
       "      <td>0.0</td>\n",
       "      <td>0.0</td>\n",
       "      <td>6.1</td>\n",
       "      <td>0.0</td>\n",
       "      <td>577.6</td>\n",
       "      <td>1.46</td>\n",
       "      <td>15.5</td>\n",
       "      <td>0.0</td>\n",
       "      <td>0.0</td>\n",
       "      <td>2.54</td>\n",
       "      <td>91.34</td>\n",
       "      <td>5.27</td>\n",
       "      <td>11567</td>\n",
       "      <td>82</td>\n",
       "      <td>127</td>\n",
       "      <td>0.708913</td>\n",
       "      <td>1.097951</td>\n",
       "      <td>14.2</td>\n",
       "      <td>24.1</td>\n",
       "      <td>9145</td>\n",
       "    </tr>\n",
       "    <tr>\n",
       "      <th>3</th>\n",
       "      <td>1007</td>\n",
       "      <td>Bibb County</td>\n",
       "      <td>AL</td>\n",
       "      <td>2015</td>\n",
       "      <td>0.0</td>\n",
       "      <td>0.0</td>\n",
       "      <td>0.0</td>\n",
       "      <td>191.9</td>\n",
       "      <td>0.0</td>\n",
       "      <td>0.0</td>\n",
       "      <td>0.0</td>\n",
       "      <td>1.0</td>\n",
       "      <td>1.0</td>\n",
       "      <td>0.0</td>\n",
       "      <td>37.0</td>\n",
       "      <td>22561.0</td>\n",
       "      <td>1.0</td>\n",
       "      <td>1.0</td>\n",
       "      <td>0.0</td>\n",
       "      <td>0.0</td>\n",
       "      <td>14.1</td>\n",
       "      <td>0.0</td>\n",
       "      <td>563.0</td>\n",
       "      <td>0.39</td>\n",
       "      <td>9.7</td>\n",
       "      <td>0.0</td>\n",
       "      <td>0.0</td>\n",
       "      <td>2.58</td>\n",
       "      <td>91.86</td>\n",
       "      <td>5.62</td>\n",
       "      <td>9508</td>\n",
       "      <td>119</td>\n",
       "      <td>184</td>\n",
       "      <td>1.251578</td>\n",
       "      <td>1.935212</td>\n",
       "      <td>10.9</td>\n",
       "      <td>17.0</td>\n",
       "      <td>7078</td>\n",
       "    </tr>\n",
       "    <tr>\n",
       "      <th>4</th>\n",
       "      <td>1009</td>\n",
       "      <td>Blount County</td>\n",
       "      <td>AL</td>\n",
       "      <td>2015</td>\n",
       "      <td>0.0</td>\n",
       "      <td>5.0</td>\n",
       "      <td>10.4</td>\n",
       "      <td>95.4</td>\n",
       "      <td>1.0</td>\n",
       "      <td>0.0</td>\n",
       "      <td>1.0</td>\n",
       "      <td>1.0</td>\n",
       "      <td>0.0</td>\n",
       "      <td>0.0</td>\n",
       "      <td>46.0</td>\n",
       "      <td>57676.0</td>\n",
       "      <td>1.0</td>\n",
       "      <td>0.0</td>\n",
       "      <td>0.0</td>\n",
       "      <td>0.0</td>\n",
       "      <td>16.1</td>\n",
       "      <td>11.0</td>\n",
       "      <td>459.0</td>\n",
       "      <td>1.22</td>\n",
       "      <td>11.6</td>\n",
       "      <td>0.0</td>\n",
       "      <td>1.0</td>\n",
       "      <td>2.58</td>\n",
       "      <td>91.86</td>\n",
       "      <td>5.62</td>\n",
       "      <td>21368</td>\n",
       "      <td>601</td>\n",
       "      <td>928</td>\n",
       "      <td>2.812617</td>\n",
       "      <td>4.342943</td>\n",
       "      <td>9.3</td>\n",
       "      <td>17.3</td>\n",
       "      <td>20934</td>\n",
       "    </tr>\n",
       "  </tbody>\n",
       "</table>\n",
       "</div>"
      ],
      "text/plain": [
       "   county_code          COUNTY STATEABBREVIATION  YEAR  AMAT_fac  \\\n",
       "0         1001  Autauga County                AL  2015       0.0   \n",
       "1         1003  Baldwin County                AL  2015       0.0   \n",
       "2         1005  Barbour County                AL  2015       0.0   \n",
       "3         1007     Bibb County                AL  2015       0.0   \n",
       "4         1009   Blount County                AL  2015       0.0   \n",
       "\n",
       "   HIVdiagnoses  HIVincidence  HIVprevalence  MH_fac  Med_AMAT_fac  \\\n",
       "0           5.0          10.9          225.5     1.0           0.0   \n",
       "1          15.0           8.7          163.9     4.0           0.0   \n",
       "2           0.0           0.0          436.0     1.0           0.0   \n",
       "3           0.0           0.0          191.9     0.0           0.0   \n",
       "4           5.0          10.4           95.4     1.0           0.0   \n",
       "\n",
       "   Med_MH_fac  Med_SA_fac  Med_SMAT_fac  Med_TMAT_fac  PLHIV  Population  \\\n",
       "0         1.0         2.0           0.0           0.0  103.0     55035.0   \n",
       "1         3.0         1.0           0.0           0.0  282.0    203690.0   \n",
       "2         1.0         1.0           0.0           0.0   97.0     26270.0   \n",
       "3         0.0         1.0           1.0           0.0   37.0     22561.0   \n",
       "4         1.0         1.0           0.0           0.0   46.0     57676.0   \n",
       "\n",
       "   SA_fac  SMAT_fac  TMAT_fac  drugdeathrate  drugdeathrate_est  drugdeaths  \\\n",
       "0     2.0       0.0       0.0            0.0               10.1         0.0   \n",
       "1     2.0       0.0       0.0           21.1               20.1        43.0   \n",
       "2     1.0       0.0       0.0            0.0                6.1         0.0   \n",
       "3     1.0       1.0       0.0            0.0               14.1         0.0   \n",
       "4     1.0       0.0       0.0            0.0               16.1        11.0   \n",
       "\n",
       "   mme_percap  partD30dayrxrate  pctunins  num_SSPs  bup_phys  drugdep  \\\n",
       "0      1084.0              2.34      10.1       0.0       2.0     2.56   \n",
       "1      1148.5              2.56      13.0       0.0      13.0     2.54   \n",
       "2       577.6              1.46      15.5       0.0       0.0     2.54   \n",
       "3       563.0              0.39       9.7       0.0       0.0     2.58   \n",
       "4       459.0              1.22      11.6       0.0       1.0     2.58   \n",
       "\n",
       "   pctunmetneed  nonmedpain  ADULTMEN  MSM12MTH  MSM5YEAR  %msm12month  \\\n",
       "0         95.70        5.12     19410       333       514     1.715611   \n",
       "1         91.34        5.27     69724       925      1429     1.326659   \n",
       "2         91.34        5.27     11567        82       127     0.708913   \n",
       "3         91.86        5.62      9508       119       184     1.251578   \n",
       "4         91.86        5.62     21368       601       928     2.812617   \n",
       "\n",
       "    %msm5yr  unemployment_rate  poverty_rate  household_income  \n",
       "0  2.648120                8.5          12.8             20304  \n",
       "1  2.049509                8.6          13.8             73058  \n",
       "2  1.097951               14.2          24.1              9145  \n",
       "3  1.935212               10.9          17.0              7078  \n",
       "4  4.342943                9.3          17.3             20934  "
      ]
     },
     "execution_count": 5,
     "metadata": {},
     "output_type": "execute_result"
    }
   ],
   "source": [
    "df.head()"
   ]
  },
  {
   "cell_type": "code",
   "execution_count": 6,
   "metadata": {},
   "outputs": [
    {
     "data": {
      "text/html": [
       "<div>\n",
       "<style scoped>\n",
       "    .dataframe tbody tr th:only-of-type {\n",
       "        vertical-align: middle;\n",
       "    }\n",
       "\n",
       "    .dataframe tbody tr th {\n",
       "        vertical-align: top;\n",
       "    }\n",
       "\n",
       "    .dataframe thead th {\n",
       "        text-align: right;\n",
       "    }\n",
       "</style>\n",
       "<table border=\"1\" class=\"dataframe\">\n",
       "  <thead>\n",
       "    <tr style=\"text-align: right;\">\n",
       "      <th></th>\n",
       "      <th>county_code</th>\n",
       "      <th>YEAR</th>\n",
       "      <th>AMAT_fac</th>\n",
       "      <th>HIVdiagnoses</th>\n",
       "      <th>HIVincidence</th>\n",
       "      <th>HIVprevalence</th>\n",
       "      <th>MH_fac</th>\n",
       "      <th>Med_AMAT_fac</th>\n",
       "      <th>Med_MH_fac</th>\n",
       "      <th>Med_SA_fac</th>\n",
       "      <th>Med_SMAT_fac</th>\n",
       "      <th>Med_TMAT_fac</th>\n",
       "      <th>PLHIV</th>\n",
       "      <th>Population</th>\n",
       "      <th>SA_fac</th>\n",
       "      <th>SMAT_fac</th>\n",
       "      <th>TMAT_fac</th>\n",
       "      <th>drugdeathrate</th>\n",
       "      <th>drugdeathrate_est</th>\n",
       "      <th>drugdeaths</th>\n",
       "      <th>mme_percap</th>\n",
       "      <th>partD30dayrxrate</th>\n",
       "      <th>pctunins</th>\n",
       "      <th>num_SSPs</th>\n",
       "      <th>bup_phys</th>\n",
       "      <th>drugdep</th>\n",
       "      <th>pctunmetneed</th>\n",
       "      <th>nonmedpain</th>\n",
       "      <th>ADULTMEN</th>\n",
       "      <th>MSM12MTH</th>\n",
       "      <th>MSM5YEAR</th>\n",
       "      <th>%msm12month</th>\n",
       "      <th>%msm5yr</th>\n",
       "      <th>unemployment_rate</th>\n",
       "      <th>poverty_rate</th>\n",
       "      <th>household_income</th>\n",
       "    </tr>\n",
       "  </thead>\n",
       "  <tbody>\n",
       "    <tr>\n",
       "      <th>count</th>\n",
       "      <td>3140.000000</td>\n",
       "      <td>3140.0</td>\n",
       "      <td>3140.000000</td>\n",
       "      <td>3140.000000</td>\n",
       "      <td>3140.000000</td>\n",
       "      <td>3140.000000</td>\n",
       "      <td>3140.000000</td>\n",
       "      <td>3140.000000</td>\n",
       "      <td>3140.000000</td>\n",
       "      <td>3140.000000</td>\n",
       "      <td>3140.000000</td>\n",
       "      <td>3140.00000</td>\n",
       "      <td>3140.0000</td>\n",
       "      <td>3.140000e+03</td>\n",
       "      <td>3140.000000</td>\n",
       "      <td>3140.000000</td>\n",
       "      <td>3140.000000</td>\n",
       "      <td>3140.000000</td>\n",
       "      <td>3140.000000</td>\n",
       "      <td>3140.000000</td>\n",
       "      <td>2963.000000</td>\n",
       "      <td>3046.000000</td>\n",
       "      <td>3140.000000</td>\n",
       "      <td>3140.000000</td>\n",
       "      <td>3140.000000</td>\n",
       "      <td>3139.000000</td>\n",
       "      <td>3139.000000</td>\n",
       "      <td>3139.000000</td>\n",
       "      <td>3.140000e+03</td>\n",
       "      <td>3140.000000</td>\n",
       "      <td>3140.000000</td>\n",
       "      <td>3140.000000</td>\n",
       "      <td>3140.000000</td>\n",
       "      <td>3140.000000</td>\n",
       "      <td>3140.000000</td>\n",
       "      <td>3.140000e+03</td>\n",
       "    </tr>\n",
       "    <tr>\n",
       "      <th>mean</th>\n",
       "      <td>30387.632484</td>\n",
       "      <td>2015.0</td>\n",
       "      <td>0.085669</td>\n",
       "      <td>11.879936</td>\n",
       "      <td>4.046911</td>\n",
       "      <td>145.400446</td>\n",
       "      <td>3.290127</td>\n",
       "      <td>0.058917</td>\n",
       "      <td>2.934395</td>\n",
       "      <td>2.260191</td>\n",
       "      <td>0.879618</td>\n",
       "      <td>0.43949</td>\n",
       "      <td>295.7000</td>\n",
       "      <td>1.021892e+05</td>\n",
       "      <td>3.761465</td>\n",
       "      <td>1.326433</td>\n",
       "      <td>0.703185</td>\n",
       "      <td>3.716879</td>\n",
       "      <td>14.535828</td>\n",
       "      <td>14.812739</td>\n",
       "      <td>704.815964</td>\n",
       "      <td>1.712754</td>\n",
       "      <td>13.412803</td>\n",
       "      <td>0.092994</td>\n",
       "      <td>7.596178</td>\n",
       "      <td>2.575973</td>\n",
       "      <td>88.709994</td>\n",
       "      <td>4.313600</td>\n",
       "      <td>3.676915e+04</td>\n",
       "      <td>927.681210</td>\n",
       "      <td>1434.076752</td>\n",
       "      <td>1.294020</td>\n",
       "      <td>1.999905</td>\n",
       "      <td>8.552643</td>\n",
       "      <td>16.792452</td>\n",
       "      <td>3.700843e+04</td>\n",
       "    </tr>\n",
       "    <tr>\n",
       "      <th>std</th>\n",
       "      <td>15156.372045</td>\n",
       "      <td>0.0</td>\n",
       "      <td>0.450816</td>\n",
       "      <td>69.947292</td>\n",
       "      <td>16.575690</td>\n",
       "      <td>198.488980</td>\n",
       "      <td>8.591740</td>\n",
       "      <td>0.369298</td>\n",
       "      <td>7.401998</td>\n",
       "      <td>6.050821</td>\n",
       "      <td>3.246803</td>\n",
       "      <td>1.78178</td>\n",
       "      <td>1761.2942</td>\n",
       "      <td>3.282240e+05</td>\n",
       "      <td>11.738908</td>\n",
       "      <td>4.500413</td>\n",
       "      <td>2.577834</td>\n",
       "      <td>9.848047</td>\n",
       "      <td>6.849353</td>\n",
       "      <td>47.712102</td>\n",
       "      <td>459.743474</td>\n",
       "      <td>1.056459</td>\n",
       "      <td>5.416632</td>\n",
       "      <td>0.427192</td>\n",
       "      <td>28.036146</td>\n",
       "      <td>0.357234</td>\n",
       "      <td>3.226578</td>\n",
       "      <td>0.582708</td>\n",
       "      <td>1.164119e+05</td>\n",
       "      <td>4858.792046</td>\n",
       "      <td>7511.042900</td>\n",
       "      <td>1.011416</td>\n",
       "      <td>1.564130</td>\n",
       "      <td>3.746800</td>\n",
       "      <td>6.487101</td>\n",
       "      <td>1.119425e+05</td>\n",
       "    </tr>\n",
       "    <tr>\n",
       "      <th>min</th>\n",
       "      <td>1001.000000</td>\n",
       "      <td>2015.0</td>\n",
       "      <td>0.000000</td>\n",
       "      <td>0.000000</td>\n",
       "      <td>0.000000</td>\n",
       "      <td>0.000000</td>\n",
       "      <td>0.000000</td>\n",
       "      <td>0.000000</td>\n",
       "      <td>0.000000</td>\n",
       "      <td>0.000000</td>\n",
       "      <td>0.000000</td>\n",
       "      <td>0.00000</td>\n",
       "      <td>0.0000</td>\n",
       "      <td>8.800000e+01</td>\n",
       "      <td>0.000000</td>\n",
       "      <td>0.000000</td>\n",
       "      <td>0.000000</td>\n",
       "      <td>0.000000</td>\n",
       "      <td>0.000000</td>\n",
       "      <td>0.000000</td>\n",
       "      <td>0.000000</td>\n",
       "      <td>0.010000</td>\n",
       "      <td>1.800000</td>\n",
       "      <td>0.000000</td>\n",
       "      <td>0.000000</td>\n",
       "      <td>1.930000</td>\n",
       "      <td>77.020000</td>\n",
       "      <td>2.950000</td>\n",
       "      <td>3.400000e+01</td>\n",
       "      <td>0.000000</td>\n",
       "      <td>0.000000</td>\n",
       "      <td>0.000000</td>\n",
       "      <td>0.000000</td>\n",
       "      <td>0.000000</td>\n",
       "      <td>1.000000</td>\n",
       "      <td>3.300000e+01</td>\n",
       "    </tr>\n",
       "    <tr>\n",
       "      <th>25%</th>\n",
       "      <td>18178.500000</td>\n",
       "      <td>2015.0</td>\n",
       "      <td>0.000000</td>\n",
       "      <td>0.000000</td>\n",
       "      <td>0.000000</td>\n",
       "      <td>32.950000</td>\n",
       "      <td>0.000000</td>\n",
       "      <td>0.000000</td>\n",
       "      <td>0.000000</td>\n",
       "      <td>0.000000</td>\n",
       "      <td>0.000000</td>\n",
       "      <td>0.00000</td>\n",
       "      <td>6.0000</td>\n",
       "      <td>1.099250e+04</td>\n",
       "      <td>0.000000</td>\n",
       "      <td>0.000000</td>\n",
       "      <td>0.000000</td>\n",
       "      <td>0.000000</td>\n",
       "      <td>10.100000</td>\n",
       "      <td>0.000000</td>\n",
       "      <td>399.600000</td>\n",
       "      <td>1.030000</td>\n",
       "      <td>9.400000</td>\n",
       "      <td>0.000000</td>\n",
       "      <td>0.000000</td>\n",
       "      <td>2.320000</td>\n",
       "      <td>86.480000</td>\n",
       "      <td>3.880000</td>\n",
       "      <td>4.269000e+03</td>\n",
       "      <td>34.000000</td>\n",
       "      <td>52.000000</td>\n",
       "      <td>0.560790</td>\n",
       "      <td>0.859203</td>\n",
       "      <td>6.100000</td>\n",
       "      <td>12.100000</td>\n",
       "      <td>4.230000e+03</td>\n",
       "    </tr>\n",
       "    <tr>\n",
       "      <th>50%</th>\n",
       "      <td>29176.000000</td>\n",
       "      <td>2015.0</td>\n",
       "      <td>0.000000</td>\n",
       "      <td>0.000000</td>\n",
       "      <td>0.000000</td>\n",
       "      <td>89.000000</td>\n",
       "      <td>1.000000</td>\n",
       "      <td>0.000000</td>\n",
       "      <td>1.000000</td>\n",
       "      <td>1.000000</td>\n",
       "      <td>0.000000</td>\n",
       "      <td>0.00000</td>\n",
       "      <td>22.0000</td>\n",
       "      <td>2.569450e+04</td>\n",
       "      <td>1.000000</td>\n",
       "      <td>0.000000</td>\n",
       "      <td>0.000000</td>\n",
       "      <td>0.000000</td>\n",
       "      <td>14.100000</td>\n",
       "      <td>0.000000</td>\n",
       "      <td>648.700000</td>\n",
       "      <td>1.560000</td>\n",
       "      <td>12.900000</td>\n",
       "      <td>0.000000</td>\n",
       "      <td>1.000000</td>\n",
       "      <td>2.540000</td>\n",
       "      <td>88.790000</td>\n",
       "      <td>4.320000</td>\n",
       "      <td>9.877500e+03</td>\n",
       "      <td>103.500000</td>\n",
       "      <td>160.000000</td>\n",
       "      <td>1.021160</td>\n",
       "      <td>1.579628</td>\n",
       "      <td>8.300000</td>\n",
       "      <td>16.000000</td>\n",
       "      <td>9.793500e+03</td>\n",
       "    </tr>\n",
       "    <tr>\n",
       "      <th>75%</th>\n",
       "      <td>45079.500000</td>\n",
       "      <td>2015.0</td>\n",
       "      <td>0.000000</td>\n",
       "      <td>0.000000</td>\n",
       "      <td>0.000000</td>\n",
       "      <td>183.775000</td>\n",
       "      <td>3.000000</td>\n",
       "      <td>0.000000</td>\n",
       "      <td>3.000000</td>\n",
       "      <td>2.000000</td>\n",
       "      <td>1.000000</td>\n",
       "      <td>0.00000</td>\n",
       "      <td>88.0000</td>\n",
       "      <td>6.761475e+04</td>\n",
       "      <td>3.000000</td>\n",
       "      <td>1.000000</td>\n",
       "      <td>0.000000</td>\n",
       "      <td>0.000000</td>\n",
       "      <td>18.100000</td>\n",
       "      <td>11.000000</td>\n",
       "      <td>928.750000</td>\n",
       "      <td>2.190000</td>\n",
       "      <td>16.400000</td>\n",
       "      <td>0.000000</td>\n",
       "      <td>4.000000</td>\n",
       "      <td>2.790000</td>\n",
       "      <td>90.830000</td>\n",
       "      <td>4.700000</td>\n",
       "      <td>2.533775e+04</td>\n",
       "      <td>351.250000</td>\n",
       "      <td>543.000000</td>\n",
       "      <td>1.614168</td>\n",
       "      <td>2.491817</td>\n",
       "      <td>10.700000</td>\n",
       "      <td>20.300000</td>\n",
       "      <td>2.565975e+04</td>\n",
       "    </tr>\n",
       "    <tr>\n",
       "      <th>max</th>\n",
       "      <td>56045.000000</td>\n",
       "      <td>2015.0</td>\n",
       "      <td>8.000000</td>\n",
       "      <td>1972.000000</td>\n",
       "      <td>771.400000</td>\n",
       "      <td>2590.200000</td>\n",
       "      <td>192.000000</td>\n",
       "      <td>5.000000</td>\n",
       "      <td>133.000000</td>\n",
       "      <td>125.000000</td>\n",
       "      <td>78.000000</td>\n",
       "      <td>43.00000</td>\n",
       "      <td>48170.0000</td>\n",
       "      <td>1.011226e+07</td>\n",
       "      <td>328.000000</td>\n",
       "      <td>97.000000</td>\n",
       "      <td>54.000000</td>\n",
       "      <td>141.200000</td>\n",
       "      <td>30.100000</td>\n",
       "      <td>732.000000</td>\n",
       "      <td>4086.900000</td>\n",
       "      <td>16.510000</td>\n",
       "      <td>56.300000</td>\n",
       "      <td>6.000000</td>\n",
       "      <td>638.000000</td>\n",
       "      <td>4.290000</td>\n",
       "      <td>100.000000</td>\n",
       "      <td>5.890000</td>\n",
       "      <td>3.666190e+06</td>\n",
       "      <td>162706.000000</td>\n",
       "      <td>251521.000000</td>\n",
       "      <td>15.166163</td>\n",
       "      <td>23.444109</td>\n",
       "      <td>29.600000</td>\n",
       "      <td>47.900000</td>\n",
       "      <td>3.242391e+06</td>\n",
       "    </tr>\n",
       "  </tbody>\n",
       "</table>\n",
       "</div>"
      ],
      "text/plain": [
       "        county_code    YEAR     AMAT_fac  HIVdiagnoses  HIVincidence  \\\n",
       "count   3140.000000  3140.0  3140.000000   3140.000000   3140.000000   \n",
       "mean   30387.632484  2015.0     0.085669     11.879936      4.046911   \n",
       "std    15156.372045     0.0     0.450816     69.947292     16.575690   \n",
       "min     1001.000000  2015.0     0.000000      0.000000      0.000000   \n",
       "25%    18178.500000  2015.0     0.000000      0.000000      0.000000   \n",
       "50%    29176.000000  2015.0     0.000000      0.000000      0.000000   \n",
       "75%    45079.500000  2015.0     0.000000      0.000000      0.000000   \n",
       "max    56045.000000  2015.0     8.000000   1972.000000    771.400000   \n",
       "\n",
       "       HIVprevalence       MH_fac  Med_AMAT_fac   Med_MH_fac   Med_SA_fac  \\\n",
       "count    3140.000000  3140.000000   3140.000000  3140.000000  3140.000000   \n",
       "mean      145.400446     3.290127      0.058917     2.934395     2.260191   \n",
       "std       198.488980     8.591740      0.369298     7.401998     6.050821   \n",
       "min         0.000000     0.000000      0.000000     0.000000     0.000000   \n",
       "25%        32.950000     0.000000      0.000000     0.000000     0.000000   \n",
       "50%        89.000000     1.000000      0.000000     1.000000     1.000000   \n",
       "75%       183.775000     3.000000      0.000000     3.000000     2.000000   \n",
       "max      2590.200000   192.000000      5.000000   133.000000   125.000000   \n",
       "\n",
       "       Med_SMAT_fac  Med_TMAT_fac       PLHIV    Population       SA_fac  \\\n",
       "count   3140.000000    3140.00000   3140.0000  3.140000e+03  3140.000000   \n",
       "mean       0.879618       0.43949    295.7000  1.021892e+05     3.761465   \n",
       "std        3.246803       1.78178   1761.2942  3.282240e+05    11.738908   \n",
       "min        0.000000       0.00000      0.0000  8.800000e+01     0.000000   \n",
       "25%        0.000000       0.00000      6.0000  1.099250e+04     0.000000   \n",
       "50%        0.000000       0.00000     22.0000  2.569450e+04     1.000000   \n",
       "75%        1.000000       0.00000     88.0000  6.761475e+04     3.000000   \n",
       "max       78.000000      43.00000  48170.0000  1.011226e+07   328.000000   \n",
       "\n",
       "          SMAT_fac     TMAT_fac  drugdeathrate  drugdeathrate_est  \\\n",
       "count  3140.000000  3140.000000    3140.000000        3140.000000   \n",
       "mean      1.326433     0.703185       3.716879          14.535828   \n",
       "std       4.500413     2.577834       9.848047           6.849353   \n",
       "min       0.000000     0.000000       0.000000           0.000000   \n",
       "25%       0.000000     0.000000       0.000000          10.100000   \n",
       "50%       0.000000     0.000000       0.000000          14.100000   \n",
       "75%       1.000000     0.000000       0.000000          18.100000   \n",
       "max      97.000000    54.000000     141.200000          30.100000   \n",
       "\n",
       "        drugdeaths   mme_percap  partD30dayrxrate     pctunins     num_SSPs  \\\n",
       "count  3140.000000  2963.000000       3046.000000  3140.000000  3140.000000   \n",
       "mean     14.812739   704.815964          1.712754    13.412803     0.092994   \n",
       "std      47.712102   459.743474          1.056459     5.416632     0.427192   \n",
       "min       0.000000     0.000000          0.010000     1.800000     0.000000   \n",
       "25%       0.000000   399.600000          1.030000     9.400000     0.000000   \n",
       "50%       0.000000   648.700000          1.560000    12.900000     0.000000   \n",
       "75%      11.000000   928.750000          2.190000    16.400000     0.000000   \n",
       "max     732.000000  4086.900000         16.510000    56.300000     6.000000   \n",
       "\n",
       "          bup_phys      drugdep  pctunmetneed   nonmedpain      ADULTMEN  \\\n",
       "count  3140.000000  3139.000000   3139.000000  3139.000000  3.140000e+03   \n",
       "mean      7.596178     2.575973     88.709994     4.313600  3.676915e+04   \n",
       "std      28.036146     0.357234      3.226578     0.582708  1.164119e+05   \n",
       "min       0.000000     1.930000     77.020000     2.950000  3.400000e+01   \n",
       "25%       0.000000     2.320000     86.480000     3.880000  4.269000e+03   \n",
       "50%       1.000000     2.540000     88.790000     4.320000  9.877500e+03   \n",
       "75%       4.000000     2.790000     90.830000     4.700000  2.533775e+04   \n",
       "max     638.000000     4.290000    100.000000     5.890000  3.666190e+06   \n",
       "\n",
       "            MSM12MTH       MSM5YEAR  %msm12month      %msm5yr  \\\n",
       "count    3140.000000    3140.000000  3140.000000  3140.000000   \n",
       "mean      927.681210    1434.076752     1.294020     1.999905   \n",
       "std      4858.792046    7511.042900     1.011416     1.564130   \n",
       "min         0.000000       0.000000     0.000000     0.000000   \n",
       "25%        34.000000      52.000000     0.560790     0.859203   \n",
       "50%       103.500000     160.000000     1.021160     1.579628   \n",
       "75%       351.250000     543.000000     1.614168     2.491817   \n",
       "max    162706.000000  251521.000000    15.166163    23.444109   \n",
       "\n",
       "       unemployment_rate  poverty_rate  household_income  \n",
       "count        3140.000000   3140.000000      3.140000e+03  \n",
       "mean            8.552643     16.792452      3.700843e+04  \n",
       "std             3.746800      6.487101      1.119425e+05  \n",
       "min             0.000000      1.000000      3.300000e+01  \n",
       "25%             6.100000     12.100000      4.230000e+03  \n",
       "50%             8.300000     16.000000      9.793500e+03  \n",
       "75%            10.700000     20.300000      2.565975e+04  \n",
       "max            29.600000     47.900000      3.242391e+06  "
      ]
     },
     "execution_count": 6,
     "metadata": {},
     "output_type": "execute_result"
    }
   ],
   "source": [
    "df.describe()"
   ]
  },
  {
   "cell_type": "code",
   "execution_count": 7,
   "metadata": {},
   "outputs": [],
   "source": [
    "df_subset = df[['county_code','HIVincidence','HIVprevalence','ADULTMEN','unemployment_rate','poverty_rate','household_income']]"
   ]
  },
  {
   "cell_type": "code",
   "execution_count": 8,
   "metadata": {},
   "outputs": [
    {
     "data": {
      "image/png": "[encoded data removed]",
      "text/plain": [
       "<Figure size 432x288 with 49 Axes>"
      ]
     },
     "metadata": {
      "needs_background": "light"
     },
     "output_type": "display_data"
    }
   ],
   "source": [
    "axs = pd.plotting.scatter_matrix( df_subset, alpha=0.2, diagonal='kde')\n",
    "n = len(df_subset.columns)\n",
    "for x in range(n):\n",
    "    for y in range(n):\n",
    "        # to get the axis of subplots\n",
    "        ax = axs[x, y]\n",
    "        # to make x axis name vertical  \n",
    "        ax.xaxis.label.set_rotation(90)\n",
    "        # to make y axis name horizontal \n",
    "        ax.yaxis.label.set_rotation(0)\n",
    "        # to make sure y axis names are outside the plot area\n",
    "        ax.yaxis.labelpad = 50"
   ]
  },
  {
   "cell_type": "code",
   "execution_count": 9,
   "metadata": {},
   "outputs": [],
   "source": [
    "df_incidencebycounty = df.groupby('county_code')['HIVincidence']"
   ]
  },
  {
   "cell_type": "code",
   "execution_count": 10,
   "metadata": {},
   "outputs": [
    {
     "data": {
      "image/png": "[encoded data removed]",
      "text/plain": [
       "<Figure size 432x288 with 1 Axes>"
      ]
     },
     "metadata": {
      "needs_background": "light"
     },
     "output_type": "display_data"
    }
   ],
   "source": [
    "plt.scatter(df['household_income'],df['HIVincidence'],s=1)\n",
    "plt.ylim(0,150)\n",
    "plt.xlim(0,800000);"
   ]
  },
  {
   "cell_type": "code",
   "execution_count": 11,
   "metadata": {},
   "outputs": [
    {
     "data": {
      "image/png": "[encoded data removed]",
      "text/plain": [
       "<Figure size 432x288 with 1 Axes>"
      ]
     },
     "metadata": {
      "needs_background": "light"
     },
     "output_type": "display_data"
    }
   ],
   "source": [
    "plt.scatter(df['%msm12month'],df['HIVincidence'],s=1)\n",
    "plt.ylim(0,150);"
   ]
  },
  {
   "cell_type": "code",
   "execution_count": 12,
   "metadata": {},
   "outputs": [
    {
     "data": {
      "image/png": "[encoded data removed]",
      "text/plain": [
       "<Figure size 432x288 with 1 Axes>"
      ]
     },
     "metadata": {
      "needs_background": "light"
     },
     "output_type": "display_data"
    }
   ],
   "source": [
    "plt.scatter(df['%msm5yr'],df['HIVincidence'],s=1)\n",
    "plt.ylim(0,150);"
   ]
  },
  {
   "cell_type": "code",
   "execution_count": 13,
   "metadata": {},
   "outputs": [
    {
     "data": {
      "image/png": "[encoded data removed]",
      "text/plain": [
       "<Figure size 432x288 with 1 Axes>"
      ]
     },
     "metadata": {
      "needs_background": "light"
     },
     "output_type": "display_data"
    }
   ],
   "source": [
    "plt.scatter(df['poverty_rate'],df['HIVincidence'],s=1)\n",
    "plt.ylim(0,150); #some outliers make it difficult to see"
   ]
  },
  {
   "cell_type": "code",
   "execution_count": 14,
   "metadata": {
    "scrolled": true
   },
   "outputs": [
    {
     "data": {
      "image/png": "[encoded data removed]",
      "text/plain": [
       "<Figure size 432x288 with 1 Axes>"
      ]
     },
     "metadata": {
      "needs_background": "light"
     },
     "output_type": "display_data"
    }
   ],
   "source": [
    "plt.scatter(df['HIVprevalence'],df['HIVincidence'],s=1)\n",
    "plt.ylim(0,150); #some outliers make it difficult to see"
   ]
  },
  {
   "cell_type": "code",
   "execution_count": 15,
   "metadata": {
    "scrolled": true
   },
   "outputs": [
    {
     "data": {
      "image/png": "[encoded data removed]",
      "text/plain": [
       "<Figure size 432x288 with 1 Axes>"
      ]
     },
     "metadata": {
      "needs_background": "light"
     },
     "output_type": "display_data"
    }
   ],
   "source": [
    "plt.scatter(df['drugdeathrate_est'],df['HIVincidence'],s=1)\n",
    "plt.ylim(0,150); #some outliers make it difficult to see"
   ]
  },
  {
   "cell_type": "code",
   "execution_count": 16,
   "metadata": {
    "scrolled": true
   },
   "outputs": [
    {
     "data": {
      "image/png": "[encoded data removed]",
      "text/plain": [
       "<Figure size 432x288 with 1 Axes>"
      ]
     },
     "metadata": {
      "needs_background": "light"
     },
     "output_type": "display_data"
    }
   ],
   "source": [
    "plt.scatter(df['pctunmetneed'],df['HIVincidence'],s=1) \n",
    "#Percent of total population needing but not receiving treatment for illicit drug use\n",
    "plt.ylim(0,150); "
   ]
  },
  {
   "cell_type": "code",
   "execution_count": 17,
   "metadata": {
    "scrolled": false
   },
   "outputs": [
    {
     "data": {
      "image/png": "[encoded data removed]",
      "text/plain": [
       "<Figure size 432x288 with 1 Axes>"
      ]
     },
     "metadata": {
      "needs_background": "light"
     },
     "output_type": "display_data"
    }
   ],
   "source": [
    "plt.scatter(df['pctunins'],df['HIVincidence'],s=1) \n",
    "plt.ylim(0,150)\n",
    "plt.xlim(0,40); "
   ]
  },
  {
   "cell_type": "code",
   "execution_count": 18,
   "metadata": {},
   "outputs": [],
   "source": [
    "df_state_county_inc = df.groupby(['STATEABBREVIATION','county_code'],as_index=False, sort=True)['HIVincidence'].sum()"
   ]
  },
  {
   "cell_type": "code",
   "execution_count": 19,
   "metadata": {},
   "outputs": [
    {
     "data": {
      "text/html": [
       "<div>\n",
       "<style scoped>\n",
       "    .dataframe tbody tr th:only-of-type {\n",
       "        vertical-align: middle;\n",
       "    }\n",
       "\n",
       "    .dataframe tbody tr th {\n",
       "        vertical-align: top;\n",
       "    }\n",
       "\n",
       "    .dataframe thead th {\n",
       "        text-align: right;\n",
       "    }\n",
       "</style>\n",
       "<table border=\"1\" class=\"dataframe\">\n",
       "  <thead>\n",
       "    <tr style=\"text-align: right;\">\n",
       "      <th></th>\n",
       "      <th>STATEABBREVIATION</th>\n",
       "      <th>county_code</th>\n",
       "      <th>HIVincidence</th>\n",
       "    </tr>\n",
       "  </thead>\n",
       "  <tbody>\n",
       "    <tr>\n",
       "      <th>866</th>\n",
       "      <td>IN</td>\n",
       "      <td>18143</td>\n",
       "      <td>771.4</td>\n",
       "    </tr>\n",
       "    <tr>\n",
       "      <th>2924</th>\n",
       "      <td>VA</td>\n",
       "      <td>51730</td>\n",
       "      <td>118.9</td>\n",
       "    </tr>\n",
       "    <tr>\n",
       "      <th>33</th>\n",
       "      <td>AL</td>\n",
       "      <td>1011</td>\n",
       "      <td>90.7</td>\n",
       "    </tr>\n",
       "    <tr>\n",
       "      <th>445</th>\n",
       "      <td>GA</td>\n",
       "      <td>13121</td>\n",
       "      <td>76.2</td>\n",
       "    </tr>\n",
       "    <tr>\n",
       "      <th>1147</th>\n",
       "      <td>LA</td>\n",
       "      <td>22071</td>\n",
       "      <td>75.9</td>\n",
       "    </tr>\n",
       "    <tr>\n",
       "      <th>403</th>\n",
       "      <td>GA</td>\n",
       "      <td>13035</td>\n",
       "      <td>69.9</td>\n",
       "    </tr>\n",
       "    <tr>\n",
       "      <th>1539</th>\n",
       "      <td>MS</td>\n",
       "      <td>28049</td>\n",
       "      <td>68.0</td>\n",
       "    </tr>\n",
       "    <tr>\n",
       "      <th>462</th>\n",
       "      <td>GA</td>\n",
       "      <td>13155</td>\n",
       "      <td>64.1</td>\n",
       "    </tr>\n",
       "    <tr>\n",
       "      <th>315</th>\n",
       "      <td>DC</td>\n",
       "      <td>11001</td>\n",
       "      <td>63.0</td>\n",
       "    </tr>\n",
       "    <tr>\n",
       "      <th>429</th>\n",
       "      <td>GA</td>\n",
       "      <td>13089</td>\n",
       "      <td>62.1</td>\n",
       "    </tr>\n",
       "  </tbody>\n",
       "</table>\n",
       "</div>"
      ],
      "text/plain": [
       "     STATEABBREVIATION  county_code  HIVincidence\n",
       "866                 IN        18143         771.4\n",
       "2924                VA        51730         118.9\n",
       "33                  AL         1011          90.7\n",
       "445                 GA        13121          76.2\n",
       "1147                LA        22071          75.9\n",
       "403                 GA        13035          69.9\n",
       "1539                MS        28049          68.0\n",
       "462                 GA        13155          64.1\n",
       "315                 DC        11001          63.0\n",
       "429                 GA        13089          62.1"
      ]
     },
     "execution_count": 19,
     "metadata": {},
     "output_type": "execute_result"
    }
   ],
   "source": [
    "df_state_county_inc.sort_values(by='HIVincidence',ascending=False).head(10)"
   ]
  },
  {
   "cell_type": "code",
   "execution_count": 20,
   "metadata": {},
   "outputs": [],
   "source": [
    "df_state_inc = df.groupby(['STATEABBREVIATION'],as_index=False, sort=True)['HIVincidence'].sum()"
   ]
  },
  {
   "cell_type": "code",
   "execution_count": 21,
   "metadata": {},
   "outputs": [
    {
     "data": {
      "text/html": [
       "<div>\n",
       "<style scoped>\n",
       "    .dataframe tbody tr th:only-of-type {\n",
       "        vertical-align: middle;\n",
       "    }\n",
       "\n",
       "    .dataframe tbody tr th {\n",
       "        vertical-align: top;\n",
       "    }\n",
       "\n",
       "    .dataframe thead th {\n",
       "        text-align: right;\n",
       "    }\n",
       "</style>\n",
       "<table border=\"1\" class=\"dataframe\">\n",
       "  <thead>\n",
       "    <tr style=\"text-align: right;\">\n",
       "      <th></th>\n",
       "      <th>STATEABBREVIATION</th>\n",
       "      <th>HIVincidence</th>\n",
       "    </tr>\n",
       "  </thead>\n",
       "  <tbody>\n",
       "    <tr>\n",
       "      <th>10</th>\n",
       "      <td>GA</td>\n",
       "      <td>1245.3</td>\n",
       "    </tr>\n",
       "    <tr>\n",
       "      <th>43</th>\n",
       "      <td>TX</td>\n",
       "      <td>1218.8</td>\n",
       "    </tr>\n",
       "    <tr>\n",
       "      <th>15</th>\n",
       "      <td>IN</td>\n",
       "      <td>964.1</td>\n",
       "    </tr>\n",
       "    <tr>\n",
       "      <th>9</th>\n",
       "      <td>FL</td>\n",
       "      <td>956.5</td>\n",
       "    </tr>\n",
       "    <tr>\n",
       "      <th>45</th>\n",
       "      <td>VA</td>\n",
       "      <td>913.8</td>\n",
       "    </tr>\n",
       "    <tr>\n",
       "      <th>18</th>\n",
       "      <td>LA</td>\n",
       "      <td>887.9</td>\n",
       "    </tr>\n",
       "    <tr>\n",
       "      <th>27</th>\n",
       "      <td>NC</td>\n",
       "      <td>782.9</td>\n",
       "    </tr>\n",
       "    <tr>\n",
       "      <th>40</th>\n",
       "      <td>SC</td>\n",
       "      <td>692.5</td>\n",
       "    </tr>\n",
       "    <tr>\n",
       "      <th>25</th>\n",
       "      <td>MS</td>\n",
       "      <td>683.4</td>\n",
       "    </tr>\n",
       "    <tr>\n",
       "      <th>1</th>\n",
       "      <td>AL</td>\n",
       "      <td>548.4</td>\n",
       "    </tr>\n",
       "  </tbody>\n",
       "</table>\n",
       "</div>"
      ],
      "text/plain": [
       "   STATEABBREVIATION  HIVincidence\n",
       "10                GA        1245.3\n",
       "43                TX        1218.8\n",
       "15                IN         964.1\n",
       "9                 FL         956.5\n",
       "45                VA         913.8\n",
       "18                LA         887.9\n",
       "27                NC         782.9\n",
       "40                SC         692.5\n",
       "25                MS         683.4\n",
       "1                 AL         548.4"
      ]
     },
     "execution_count": 21,
     "metadata": {},
     "output_type": "execute_result"
    }
   ],
   "source": [
    "df_state_inc.sort_values(by='HIVincidence',ascending=False).head(10)"
   ]
  },
  {
   "cell_type": "code",
   "execution_count": 22,
   "metadata": {},
   "outputs": [
    {
     "data": {
      "image/png": "[encoded data removed]",
      "text/plain": [
       "<Figure size 720x432 with 1 Axes>"
      ]
     },
     "metadata": {
      "needs_background": "light"
     },
     "output_type": "display_data"
    }
   ],
   "source": [
    "fig, ax = plt.subplots(figsize=(10, 6))\n",
    "plt.bar(df_state_inc['STATEABBREVIATION'],df_state_inc['HIVincidence'])\n",
    "plt.xticks(rotation = 90,size=10);"
   ]
  },
  {
   "cell_type": "code",
   "execution_count": 23,
   "metadata": {
    "scrolled": true
   },
   "outputs": [
    {
     "data": {
      "text/plain": [
       "767     771.4\n",
       "2938    118.9\n",
       "5        90.7\n",
       "445      76.2\n",
       "1147     75.9\n",
       "403      69.9\n",
       "1424     68.0\n",
       "462      64.1\n",
       "318      63.0\n",
       "429      62.1\n",
       "416      60.8\n",
       "361      58.7\n",
       "2602     57.9\n",
       "1215     57.7\n",
       "432      57.5\n",
       "1128     56.4\n",
       "1141     56.0\n",
       "2339     53.1\n",
       "396      52.6\n",
       "2882     52.2\n",
       "50       51.4\n",
       "1896     50.9\n",
       "2765     50.2\n",
       "2521     48.4\n",
       "1412     47.8\n",
       "1779     47.6\n",
       "1417     47.5\n",
       "1207     47.3\n",
       "385      47.1\n",
       "2429     46.3\n",
       "        ...  \n",
       "1938      0.0\n",
       "1936      0.0\n",
       "1934      0.0\n",
       "1932      0.0\n",
       "1928      0.0\n",
       "1926      0.0\n",
       "1925      0.0\n",
       "1918      0.0\n",
       "1957      0.0\n",
       "1959      0.0\n",
       "1990      0.0\n",
       "1960      0.0\n",
       "1989      0.0\n",
       "1988      0.0\n",
       "1987      0.0\n",
       "1985      0.0\n",
       "1983      0.0\n",
       "1982      0.0\n",
       "1981      0.0\n",
       "1977      0.0\n",
       "1976      0.0\n",
       "1975      0.0\n",
       "1974      0.0\n",
       "1973      0.0\n",
       "1972      0.0\n",
       "1970      0.0\n",
       "1965      0.0\n",
       "1964      0.0\n",
       "1963      0.0\n",
       "1569      0.0\n",
       "Name: HIVincidence, Length: 3140, dtype: float64"
      ]
     },
     "execution_count": 23,
     "metadata": {},
     "output_type": "execute_result"
    }
   ],
   "source": [
    "df['HIVincidence'].sort_values(ascending = False)"
   ]
  },
  {
   "cell_type": "markdown",
   "metadata": {},
   "source": [
    "## Model by Mean"
   ]
  },
  {
   "cell_type": "code",
   "execution_count": 24,
   "metadata": {},
   "outputs": [],
   "source": [
    "df = df[df.HIVincidence < 700]"
   ]
  },
  {
   "cell_type": "code",
   "execution_count": 25,
   "metadata": {},
   "outputs": [],
   "source": [
    "df_test = df.drop(columns='HIVincidence') #our X values"
   ]
  },
  {
   "cell_type": "code",
   "execution_count": 26,
   "metadata": {},
   "outputs": [
    {
     "name": "stdout",
     "output_type": "stream",
     "text": [
      "3.802453010512897\n"
     ]
    }
   ],
   "source": [
    "incidence_mean = df['HIVincidence'].mean() #mean after removing outlier\n",
    "print(incidence_mean)"
   ]
  },
  {
   "cell_type": "code",
   "execution_count": 27,
   "metadata": {},
   "outputs": [],
   "source": [
    "fhat = lambda X: np.ones(len(df_test))*incidence_mean"
   ]
  },
  {
   "cell_type": "code",
   "execution_count": 28,
   "metadata": {},
   "outputs": [],
   "source": [
    "yhat = fhat(df_test)"
   ]
  },
  {
   "cell_type": "code",
   "execution_count": 29,
   "metadata": {},
   "outputs": [
    {
     "data": {
      "text/plain": [
       "array([3.80245301, 3.80245301, 3.80245301, ..., 3.80245301, 3.80245301,\n",
       "       3.80245301])"
      ]
     },
     "execution_count": 29,
     "metadata": {},
     "output_type": "execute_result"
    }
   ],
   "source": [
    "yhat"
   ]
  },
  {
   "cell_type": "code",
   "execution_count": 30,
   "metadata": {},
   "outputs": [],
   "source": [
    "mse = ((df['HIVincidence'] - yhat)**2).mean()"
   ]
  },
  {
   "cell_type": "code",
   "execution_count": 31,
   "metadata": {},
   "outputs": [
    {
     "data": {
      "text/plain": [
       "87.10828643256315"
      ]
     },
     "execution_count": 31,
     "metadata": {},
     "output_type": "execute_result"
    }
   ],
   "source": [
    "mse"
   ]
  },
  {
   "cell_type": "code",
   "execution_count": 32,
   "metadata": {},
   "outputs": [
    {
     "data": {
      "text/plain": [
       "9.333182010041545"
      ]
     },
     "execution_count": 32,
     "metadata": {},
     "output_type": "execute_result"
    }
   ],
   "source": [
    "np.sqrt(mse)"
   ]
  },
  {
   "cell_type": "code",
   "execution_count": 33,
   "metadata": {},
   "outputs": [],
   "source": [
    "# graph"
   ]
  },
  {
   "cell_type": "code",
   "execution_count": 34,
   "metadata": {},
   "outputs": [],
   "source": [
    "incidence = df['HIVincidence'].sort_values()"
   ]
  },
  {
   "cell_type": "code",
   "execution_count": 42,
   "metadata": {},
   "outputs": [
    {
     "data": {
      "text/plain": [
       "<matplotlib.legend.Legend at 0x1a1f9839b0>"
      ]
     },
     "execution_count": 42,
     "metadata": {},
     "output_type": "execute_result"
    },
    {
     "data": {
      "image/png": "[encoded data removed]",
      "text/plain": [
       "<Figure size 864x504 with 1 Axes>"
      ]
     },
     "metadata": {
      "needs_background": "light"
     },
     "output_type": "display_data"
    }
   ],
   "source": [
    "fig, ax = plt.subplots(figsize=(12,7))\n",
    "xs = np.linspace(0,len(incidence),3139)\n",
    "ax.scatter( xs, incidence, label=\"data\",s=1)\n",
    "ax.set_xlabel(\"Observations Ordered by Incidence\",fontsize = 14)\n",
    "ax.set_ylabel(\"Incidence Rate\",fontsize = 14)\n",
    "ax.set_title(\"MSE Using Mean\",fontsize = 18)\n",
    "\n",
    "\n",
    "ax.plot( xs, yhat, c=\"red\", label=\"model\" )\n",
    "ax.legend()\n",
    "\n",
    "#for x_i, y_i in zip(xs,incidence):\n",
    "#    plt.plot([x_i, x_i], [y_i, incidence_mean], color='gray', linestyle='dashed',lw=1)"
   ]
  },
  {
   "cell_type": "code",
   "execution_count": null,
   "metadata": {},
   "outputs": [],
   "source": []
  }
 ],
 "metadata": {
  "kernelspec": {
   "display_name": "Python 3",
   "language": "python",
   "name": "python3"
  },
  "language_info": {
   "codemirror_mode": {
    "name": "ipython",
    "version": 3
   },
   "file_extension": ".py",
   "mimetype": "text/x-python",
   "name": "python",
   "nbconvert_exporter": "python",
   "pygments_lexer": "ipython3",
   "version": "3.7.3"
  }
 },
 "nbformat": 4,
 "nbformat_minor": 2
}
